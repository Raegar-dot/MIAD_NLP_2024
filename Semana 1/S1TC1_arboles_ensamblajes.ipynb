{
 "cells": [
  {
   "cell_type": "markdown",
   "metadata": {},
   "source": [
    "![image info](https://raw.githubusercontent.com/albahnsen/MIAD_ML_and_NLP/main/images/banner_1.png)"
   ]
  },
  {
   "cell_type": "markdown",
   "metadata": {},
   "source": [
    "<center>Taller desarrollado por: David Zapata Vásquez - d.zapata11@uniandes.edu.co</center>"
   ]
  },
  {
   "cell_type": "markdown",
   "metadata": {},
   "source": [
    "# Taller: Construcción e implementación de árboles de decisión y métodos de ensamblaje\n",
    "\n",
    "En este taller podrá poner en práctica los sus conocimientos sobre construcción e implementación de árboles de decisión y métodos de ensamblajes. El taller está constituido por 9 puntos, 5 relacionados con árboles de decisión (parte A) y 4 con métodos de ensamblaje (parte B)."
   ]
  },
  {
   "cell_type": "markdown",
   "metadata": {},
   "source": [
    "## Parte A - Árboles de decisión\n",
    "\n",
    "En esta parte del taller se usará el conjunto de datos de Capital Bikeshare de Kaggle, donde cada observación representa el alquiler de bicicletas durante una hora y día determinado. Para más detalles puede visitar los siguientes enlaces: [datos](https://archive.ics.uci.edu/ml/machine-learning-databases/00275/Bike-Sharing-Dataset.zip), [dicccionario de datos](https://archive.ics.uci.edu/ml/datasets/Bike+Sharing+Dataset#)."
   ]
  },
  {
   "cell_type": "markdown",
   "metadata": {},
   "source": [
    "### Datos prestamo de bicicletas"
   ]
  },
  {
   "cell_type": "code",
   "execution_count": 1,
   "metadata": {},
   "outputs": [],
   "source": [
    "import warnings\n",
    "warnings.filterwarnings('ignore')"
   ]
  },
  {
   "cell_type": "code",
   "execution_count": 2,
   "metadata": {},
   "outputs": [],
   "source": [
    "# Importación de librerías\n",
    "%matplotlib inline\n",
    "import pandas as pd\n",
    "import numpy as np\n",
    "from sklearn.model_selection import cross_val_score\n",
    "from sklearn.linear_model import LinearRegression\n",
    "from sklearn.tree import DecisionTreeRegressor, export_graphviz"
   ]
  },
  {
   "cell_type": "code",
   "execution_count": 10,
   "metadata": {},
   "outputs": [
    {
     "data": {
      "text/html": [
       "<div>\n",
       "<style scoped>\n",
       "    .dataframe tbody tr th:only-of-type {\n",
       "        vertical-align: middle;\n",
       "    }\n",
       "\n",
       "    .dataframe tbody tr th {\n",
       "        vertical-align: top;\n",
       "    }\n",
       "\n",
       "    .dataframe thead th {\n",
       "        text-align: right;\n",
       "    }\n",
       "</style>\n",
       "<table border=\"1\" class=\"dataframe\">\n",
       "  <thead>\n",
       "    <tr style=\"text-align: right;\">\n",
       "      <th></th>\n",
       "      <th>season</th>\n",
       "      <th>holiday</th>\n",
       "      <th>workingday</th>\n",
       "      <th>weather</th>\n",
       "      <th>temp</th>\n",
       "      <th>atemp</th>\n",
       "      <th>humidity</th>\n",
       "      <th>windspeed</th>\n",
       "      <th>casual</th>\n",
       "      <th>registered</th>\n",
       "      <th>total</th>\n",
       "      <th>hour</th>\n",
       "    </tr>\n",
       "    <tr>\n",
       "      <th>datetime</th>\n",
       "      <th></th>\n",
       "      <th></th>\n",
       "      <th></th>\n",
       "      <th></th>\n",
       "      <th></th>\n",
       "      <th></th>\n",
       "      <th></th>\n",
       "      <th></th>\n",
       "      <th></th>\n",
       "      <th></th>\n",
       "      <th></th>\n",
       "      <th></th>\n",
       "    </tr>\n",
       "  </thead>\n",
       "  <tbody>\n",
       "    <tr>\n",
       "      <th>2011-01-01 00:00:00</th>\n",
       "      <td>1</td>\n",
       "      <td>0</td>\n",
       "      <td>0</td>\n",
       "      <td>1</td>\n",
       "      <td>9.84</td>\n",
       "      <td>14.395</td>\n",
       "      <td>81</td>\n",
       "      <td>0.0</td>\n",
       "      <td>3</td>\n",
       "      <td>13</td>\n",
       "      <td>16</td>\n",
       "      <td>0</td>\n",
       "    </tr>\n",
       "    <tr>\n",
       "      <th>2011-01-01 01:00:00</th>\n",
       "      <td>1</td>\n",
       "      <td>0</td>\n",
       "      <td>0</td>\n",
       "      <td>1</td>\n",
       "      <td>9.02</td>\n",
       "      <td>13.635</td>\n",
       "      <td>80</td>\n",
       "      <td>0.0</td>\n",
       "      <td>8</td>\n",
       "      <td>32</td>\n",
       "      <td>40</td>\n",
       "      <td>1</td>\n",
       "    </tr>\n",
       "    <tr>\n",
       "      <th>2011-01-01 02:00:00</th>\n",
       "      <td>1</td>\n",
       "      <td>0</td>\n",
       "      <td>0</td>\n",
       "      <td>1</td>\n",
       "      <td>9.02</td>\n",
       "      <td>13.635</td>\n",
       "      <td>80</td>\n",
       "      <td>0.0</td>\n",
       "      <td>5</td>\n",
       "      <td>27</td>\n",
       "      <td>32</td>\n",
       "      <td>2</td>\n",
       "    </tr>\n",
       "    <tr>\n",
       "      <th>2011-01-01 03:00:00</th>\n",
       "      <td>1</td>\n",
       "      <td>0</td>\n",
       "      <td>0</td>\n",
       "      <td>1</td>\n",
       "      <td>9.84</td>\n",
       "      <td>14.395</td>\n",
       "      <td>75</td>\n",
       "      <td>0.0</td>\n",
       "      <td>3</td>\n",
       "      <td>10</td>\n",
       "      <td>13</td>\n",
       "      <td>3</td>\n",
       "    </tr>\n",
       "    <tr>\n",
       "      <th>2011-01-01 04:00:00</th>\n",
       "      <td>1</td>\n",
       "      <td>0</td>\n",
       "      <td>0</td>\n",
       "      <td>1</td>\n",
       "      <td>9.84</td>\n",
       "      <td>14.395</td>\n",
       "      <td>75</td>\n",
       "      <td>0.0</td>\n",
       "      <td>0</td>\n",
       "      <td>1</td>\n",
       "      <td>1</td>\n",
       "      <td>4</td>\n",
       "    </tr>\n",
       "  </tbody>\n",
       "</table>\n",
       "</div>"
      ],
      "text/plain": [
       "                     season  holiday  workingday  weather  temp   atemp  \\\n",
       "datetime                                                                  \n",
       "2011-01-01 00:00:00       1        0           0        1  9.84  14.395   \n",
       "2011-01-01 01:00:00       1        0           0        1  9.02  13.635   \n",
       "2011-01-01 02:00:00       1        0           0        1  9.02  13.635   \n",
       "2011-01-01 03:00:00       1        0           0        1  9.84  14.395   \n",
       "2011-01-01 04:00:00       1        0           0        1  9.84  14.395   \n",
       "\n",
       "                     humidity  windspeed  casual  registered  total  hour  \n",
       "datetime                                                                   \n",
       "2011-01-01 00:00:00        81        0.0       3          13     16     0  \n",
       "2011-01-01 01:00:00        80        0.0       8          32     40     1  \n",
       "2011-01-01 02:00:00        80        0.0       5          27     32     2  \n",
       "2011-01-01 03:00:00        75        0.0       3          10     13     3  \n",
       "2011-01-01 04:00:00        75        0.0       0           1      1     4  "
      ]
     },
     "execution_count": 13,
     "metadata": {},
     "output_type": "execute_result"
    }
   ],
   "source": [
    "# Lectura de la información de archivo .csv\n",
    "bikes = pd.read_csv('https://raw.githubusercontent.com/davidzarruk/MIAD_ML_NLP_2023/main/datasets/bikeshare.csv', index_col='datetime', parse_dates=True)\n",
    "\n",
    "# Renombrar variable \"count\" a \"total\"\n",
    "bikes.rename(columns={'count':'total'}, inplace=True)\n",
    "\n",
    "# Crear la hora como una variable \n",
    "bikes['hour'] = bikes.index.hour\n",
    "\n",
    "# Visualización de los datos\n",
    "bikes.head()"
   ]
  },
  {
   "cell_type": "markdown",
   "metadata": {},
   "source": [
    "### Punto 1 - Análisis descriptivo\n",
    "\n",
    "Ejecute las celdas 1.1 y 1.2. A partir de los resultados realice un análisis descriptivo sobre las variables \"season\" y \"hour\", escriba sus inferencias sobre los datos. Para complementar su análisis puede usar métricas como máximo, mínimo, percentiles entre otros."
   ]
  },
  {
   "cell_type": "code",
   "execution_count": 4,
   "metadata": {},
   "outputs": [
    {
     "data": {
      "text/plain": [
       "season\n",
       "1    116.343261\n",
       "2    215.251372\n",
       "3    234.417124\n",
       "4    198.988296\n",
       "Name: total, dtype: float64"
      ]
     },
     "execution_count": 4,
     "metadata": {},
     "output_type": "execute_result"
    }
   ],
   "source": [
    "# Celda 1.1\n",
    "bikes.groupby('season').total.mean()"
   ]
  },
  {
   "cell_type": "code",
   "execution_count": 5,
   "metadata": {
    "scrolled": true
   },
   "outputs": [
    {
     "data": {
      "text/plain": [
       "hour\n",
       "0      55.138462\n",
       "1      33.859031\n",
       "2      22.899554\n",
       "3      11.757506\n",
       "4       6.407240\n",
       "5      19.767699\n",
       "6      76.259341\n",
       "7     213.116484\n",
       "8     362.769231\n",
       "9     221.780220\n",
       "10    175.092308\n",
       "11    210.674725\n",
       "12    256.508772\n",
       "13    257.787281\n",
       "14    243.442982\n",
       "15    254.298246\n",
       "16    316.372807\n",
       "17    468.765351\n",
       "18    430.859649\n",
       "19    315.278509\n",
       "20    228.517544\n",
       "21    173.370614\n",
       "22    133.576754\n",
       "23     89.508772\n",
       "Name: total, dtype: float64"
      ]
     },
     "execution_count": 5,
     "metadata": {},
     "output_type": "execute_result"
    }
   ],
   "source": [
    "# Celda 1.2\n",
    "bikes.groupby('hour').total.mean()"
   ]
  },
  {
   "cell_type": "code",
   "execution_count": 8,
   "metadata": {},
   "outputs": [
    {
     "name": "stdout",
     "output_type": "stream",
     "text": [
      "         count        mean         std  min   25%    50%    75%    max\n",
      "season                                                                \n",
      "1       2686.0  116.343261  125.273974  1.0  24.0   78.0  164.0  801.0\n",
      "2       2733.0  215.251372  192.007843  1.0  49.0  172.0  321.0  873.0\n",
      "3       2733.0  234.417124  197.151001  1.0  68.0  195.0  347.0  977.0\n",
      "4       2734.0  198.988296  177.622409  1.0  51.0  161.0  294.0  948.0\n",
      "      count        mean         std   min     25%    50%     75%    max\n",
      "hour                                                                   \n",
      "0     455.0   55.138462   43.620012   2.0   24.00   41.0   74.50  283.0\n",
      "1     454.0   33.859031   34.112105   1.0   11.00   19.0   46.00  168.0\n",
      "2     448.0   22.899554   26.110267   1.0    5.00   11.0   32.00  119.0\n",
      "3     433.0   11.757506   12.666442   1.0    3.00    6.0   15.00   66.0\n",
      "4     442.0    6.407240    4.217633   1.0    3.00    6.0    9.00   28.0\n",
      "5     452.0   19.767699   12.784293   1.0    8.00   19.0   29.00   57.0\n",
      "6     455.0   76.259341   54.745333   1.0   24.50   75.0  118.00  213.0\n",
      "7     455.0  213.116484  159.207044   1.0   63.00  208.0  334.00  596.0\n",
      "8     455.0  362.769231  231.723065   8.0  133.50  392.0  563.50  839.0\n",
      "9     455.0  221.780220   92.099209  14.0  161.00  217.0  294.50  414.0\n",
      "10    455.0  175.092308  101.807629  17.0  106.00  149.0  218.50  539.0\n",
      "11    455.0  210.674725  127.444294  10.0  123.00  183.0  265.50  647.0\n",
      "12    456.0  256.508772  143.881880   3.0  157.00  234.5  332.00  757.0\n",
      "13    456.0  257.787281  149.167185  11.0  154.00  226.5  329.00  729.0\n",
      "14    456.0  243.442982  147.563199  12.0  144.00  212.0  311.25  730.0\n",
      "15    456.0  254.298246  144.235670   7.0  154.00  232.0  331.00  724.0\n",
      "16    456.0  316.372807  145.664786  11.0  211.75  309.5  421.00  783.0\n",
      "17    456.0  468.765351  223.775485  15.0  277.00  480.5  608.50  970.0\n",
      "18    456.0  430.859649  219.908138  23.0  240.75  422.5  564.00  977.0\n",
      "19    456.0  315.278509  156.641732  11.0  190.00  312.5  416.00  743.0\n",
      "20    456.0  228.517544  116.411565  11.0  136.75  224.0  302.00  551.0\n",
      "21    456.0  173.370614   87.629319   6.0  103.50  171.5  230.00  584.0\n",
      "22    456.0  133.576754   69.844495   9.0   80.00  129.0  175.00  502.0\n",
      "23    456.0   89.508772   51.638004   4.0   52.75   80.0  123.00  256.0\n"
     ]
    }
   ],
   "source": [
    "# Calculando estadísticas descriptivas para 'season'\n",
    "season_description = bikes.groupby('season')['total'].describe()\n",
    "\n",
    "# Calculando estadísticas descriptivas para 'hour'\n",
    "hour_description = bikes.groupby('hour')['total'].describe()\n",
    "\n",
    "# Imprimir las estadísticas para 'season'\n",
    "print(season_description)\n",
    "\n",
    "# Imprimir las estadísticas para 'hour'\n",
    "print(hour_description)"
   ]
  },
  {
   "cell_type": "markdown",
   "metadata": {},
   "source": [
    "* **Análisis de la variable \"season\":**\n",
    "    La variable *season* tiene 4 categorías que representan las temporadas del año. Basándonos en la media de alquileres de bicicletas por temporada, se observa que la temporada 3 (**verano**) tiene la mayor cantidad de alquileres de bicicletas, seguida por la temporada 2 (**primavera**). Esto podría sugerir que las condiciones climáticas más cálidas fomentan el uso de bicicletas. Las temporadas 1 (**invierno**) y 4 (**otoño**) tienen menos alquileres, lo que podría indicar que el clima más frío o las condiciones de lluvia típicas del otoño e invierno disminuyen la tendencia a alquilar bicicletas.\n",
    "\n",
    "    Además de las medias, podríamos considerar la **desviación estándar** para entender la variabilidad de los alquileres en cada temporada. Observamos que la temporada 3 (**verano**) no solo tiene la media más alta sino también una desviación estándar considerable, lo que sugiere que, aunque es la temporada **más popular** para el alquiler de bicicletas, el número de alquileres puede variar significativamente de un día a otro. En contraste, la temporada 1 (**invierno**) tiene la media **más baja** pero también una menor desviación estándar, lo que indica que hay una consistencia en el uso reducido de bicicletas.\n",
    "\n",
    "    Los valores mínimo y máximo nos proporcionan información sobre los **días atípicos**, como eventos especiales o condiciones climáticas extremas que podrían influir en el número de alquileres. Los percentiles 25 y 75 nos dan una idea de la distribución de los datos, indicando que la mayoría de los alquileres en todas las temporadas ocurren dentro de estos rangos.\n",
    "\n",
    "* **Análisis de la variable \"hour\":**\n",
    "    Al analizar la variable *hour*, se ve que las horas con mayor promedio de alquileres de bicicletas son las 8, 17 y 18 horas, lo que se alinea con las horas pico de desplazamiento al trabajo y regreso a casa. Las horas nocturnas y las primeras horas de la mañana tienen los menores promedios, lo que refleja una menor demanda durante estos tiempos.\n",
    "\n",
    "    Al analizar las estadísticas descriptivas por hora, se puede notar que, además de las horas pico, hay un **aumento notable** en el alquiler de bicicletas durante el **mediodía** (hora 12), posiblemente debido a personas que salen a almorzar o realizan actividades durante el descanso del mediodía.\n",
    "\n",
    "    La variabilidad, medida por la desviación estándar, es alta durante las horas pico, lo cual es esperable debido a la fluctuación de la demanda en estos horarios. Las horas de baja demanda, como las primeras de la mañana (4-5 am), no solo tienen bajos promedios de alquiler sino también bajas desviaciones estándar, lo que indica que hay poca variabilidad y consistentemente baja demanda.\n",
    "\n",
    "    Los valores máximos durante las horas pico sugieren que pueden haber días específicos con demandas extraordinariamente altas, tal vez relacionadas con eventos especiales o cambios en las condiciones climáticas. Los valores mínimos cercanos a cero en todas las horas indican que hay momentos en que casi no se alquilan bicicletas, probablemente en horas tardías de la noche o muy temprano en la mañana cuando la mayoría de las personas no están viajando.\n",
    "\n",
    "**Conclusión general**\n",
    "\n",
    "Este análisis descriptivo sugiere patrones claros de uso de bicicletas que están influenciados tanto por **la estacionalidad** como por **el horario diario**. La información puede ser utilizada para ajustar los servicios de alquiler, aumentar la disponibilidad de bicicletas durante los periodos de alta demanda y reducir el exceso de bicicletas durante los periodos de baja actividad. Además, podría proporcionar datos valiosos para la planificación urbana, promoción de actividades saludables y establecimiento de políticas de transporte sostenible."
   ]
  },
  {
   "cell_type": "markdown",
   "metadata": {},
   "source": [
    "### Punto 2 - Análisis de gráficos\n",
    "\n",
    "Primero ejecute la celda 2.1 y asegúrese de comprender el código y el resultado. Luego, en cada una de celdas 2.2 y 2.3 escriba un código que genere una gráfica del número de bicicletas rentadas promedio para cada valor de la variable \"hour\" (hora) cuando la variable \"season\" es igual a 1 (invierno) e igual a 3 (verano), respectivamente. Analice y escriba sus hallazgos."
   ]
  },
  {
   "cell_type": "code",
   "execution_count": 10,
   "metadata": {},
   "outputs": [],
   "source": [
    "import matplotlib.pyplot as plt"
   ]
  },
  {
   "cell_type": "code",
   "execution_count": 9,
   "metadata": {},
   "outputs": [
    {
     "data": {
      "text/plain": [
       "<Axes: xlabel='hour'>"
      ]
     },
     "execution_count": 9,
     "metadata": {},
     "output_type": "execute_result"
    },
    {
     "data": {
      "image/png": "[encoded data removed]",
      "text/plain": [
       "<Figure size 640x480 with 1 Axes>"
      ]
     },
     "metadata": {},
     "output_type": "display_data"
    }
   ],
   "source": [
    "# Celda 2.1 - rentas promedio para cada valor de la variable \"hour\"\n",
    "bikes.groupby('hour').total.mean().plot()"
   ]
  },
  {
   "cell_type": "code",
   "execution_count": 12,
   "metadata": {},
   "outputs": [
    {
     "data": {
      "image/png": "[encoded data removed]",
      "text/plain": [
       "<Figure size 1000x500 with 1 Axes>"
      ]
     },
     "metadata": {},
     "output_type": "display_data"
    }
   ],
   "source": [
    "# Celda 2.2 - \"season\"=1 escriba su código y hallazgos \n",
    "\n",
    "# Filtrar los datos para la temporada de invierno (season == 1)\n",
    "winter_data = bikes[bikes['season'] == 1]\n",
    "\n",
    "# Calcular el promedio de alquileres por hora para el invierno\n",
    "winter_hourly_average = winter_data.groupby('hour')['total'].mean()\n",
    "\n",
    "# Graficar el promedio de alquileres por hora para el invierno\n",
    "plt.figure(figsize=(10, 5))\n",
    "winter_hourly_average.plot()\n",
    "plt.title('Average Number of Bikes Rented per Hour in Winter')\n",
    "plt.xlabel('Hour of the Day')\n",
    "plt.ylabel('Average Count')\n",
    "plt.xticks(range(0, 24))\n",
    "plt.grid(True)\n",
    "plt.show()"
   ]
  },
  {
   "cell_type": "code",
   "execution_count": 11,
   "metadata": {},
   "outputs": [
    {
     "data": {
      "image/png": "[encoded data removed]",
      "text/plain": [
       "<Figure size 1000x500 with 1 Axes>"
      ]
     },
     "metadata": {},
     "output_type": "display_data"
    }
   ],
   "source": [
    "# Celda 2.3 - \"season\"=3 escriba su código y hallazgos \n",
    "\n",
    "# Filtrar los datos para la temporada de verano (season == 3)\n",
    "summer_data = bikes[bikes['season'] == 3]\n",
    "\n",
    "# Calcular el promedio de alquileres por hora para el verano\n",
    "summer_hourly_average = summer_data.groupby('hour')['total'].mean()\n",
    "\n",
    "# Graficar el promedio de alquileres por hora para el verano\n",
    "plt.figure(figsize=(10, 5))\n",
    "summer_hourly_average.plot()\n",
    "plt.title('Average Number of Bikes Rented per Hour in Summer')\n",
    "plt.xlabel('Hour of the Day')\n",
    "plt.ylabel('Average Count')\n",
    "plt.xticks(range(0, 24))\n",
    "plt.grid(True)\n",
    "plt.show()"
   ]
  },
  {
   "cell_type": "markdown",
   "metadata": {},
   "source": [
    "**Análisis de Invierno:**\n",
    "\n",
    "* La gráfica de invierno muestra dos picos prominentes en el alquiler de bicicletas, uno alrededor de las **8 de la mañana** y otro entre las **17 y las 18 horas**. Estos picos pueden estar relacionados con el tráfico de desplazamientos habituales de la **jornada laboral**, lo que sugiere que las bicicletas son utilizadas para ir al trabajo y regresar a casa.\n",
    "* Fuera de las horas pico, hay una caída significativa en el uso de bicicletas, con los puntos más bajos durante las primeras horas de la mañana (entre las 0 y las 5) y una menor caída durante el mediodía.\n",
    "* Aunque hay un aumento en el uso a mediodía, este no es tan pronunciado como en las horas pico, lo que podría indicar que hay menos personas que utilizan las bicicletas para actividades de ocio o tareas personales durante el horario de trabajo.\n",
    "\n",
    "**Análisis de Verano:**\n",
    "\n",
    "* En la gráfica de verano, los picos de alquiler son **aún más pronunciados**, especialmente en la tarde alrededor de las **17 y 18 horas**, donde se observa el pico más alto del día. Esto sugiere que el uso de bicicletas es muy popular para regresar a casa **después del trabajo en verano**.\n",
    "* Durante el verano, también hay un pico notable alrededor de las 8 de la mañana, aunque no es tan alto como el de la tarde.\n",
    "* A diferencia del invierno, durante el verano hay un uso más consistente y elevado de bicicletas a lo largo del día, con menor caída después de las horas pico matutinas y un aumento gradual durante la tarde. Esto podría indicar que el clima más cálido y las horas más largas de luz diurna incrementan el uso de bicicletas no solo para el desplazamiento al trabajo sino también para el ocio y otras actividades.\n",
    "\n",
    "**Comparación entre Invierno y Verano:**\n",
    "\n",
    "Comparando ambas estaciones, es evidente que el uso de bicicletas es **generalmente más alto en verano en casi todas las horas del día**. Esto puede estar influenciado por el clima más agradable y las condiciones más propicias para andar en bicicleta.\n",
    "El patrón diario de alquileres es similar en ambas estaciones, **con picos en las horas de desplazamiento a la oficina y de regreso a casa**, aunque estos picos son más marcados en verano.\n",
    "\n",
    "**Hallazgos Generales:**\n",
    "\n",
    "Estos patrones refuerzan la idea de que las bicicletas son utilizadas significativamente para la conmutación diaria. Además, el clima tiene un impacto claro en el alquiler de bicicletas, con una utilización mucho mayor en el clima más cálido. Estos hallazgos podrían ser útiles para la gestión de la flota de bicicletas compartidas, sugiriendo la necesidad de disponer de más bicicletas durante las horas pico, especialmente en los meses de verano, y tal vez ofrecer incentivos o promociones para alentar el uso en las horas de menor demanda."
   ]
  },
  {
   "cell_type": "markdown",
   "metadata": {},
   "source": [
    "### Punto 3 - Regresión lineal\n",
    "En la celda 3 ajuste un modelo de regresión lineal a todo el conjunto de datos, utilizando \"total\" como variable de respuesta y \"season\" y \"hour\" como las únicas variables predictoras, teniendo en cuenta que la variable \"season\" es categórica. Luego, imprima los coeficientes e interprételos. ¿Cuáles son las limitaciones de la regresión lineal en este caso?"
   ]
  },
  {
   "cell_type": "code",
   "execution_count": 6,
   "metadata": {},
   "outputs": [
    {
     "name": "stdout",
     "output_type": "stream",
     "text": [
      "Intercept: 77.65285541066169\n",
      "Coefficients: [ 10.54520609 -84.08311787  16.23411404  35.38443207]\n"
     ]
    }
   ],
   "source": [
    "# Celda 3\n",
    "from sklearn.linear_model import LinearRegression\n",
    "from sklearn.model_selection import train_test_split\n",
    "from sklearn.metrics import mean_squared_error\n",
    "from sklearn.preprocessing import OneHotEncoder\n",
    "from sklearn.compose import ColumnTransformer\n",
    "\n",
    "# Convertir \"season\" a variables dummy\n",
    "season_dummies = pd.get_dummies(bikes['season'], prefix='season')\n",
    "\n",
    "# Unir las variables dummy al DataFrame original\n",
    "bikes = pd.concat([bikes, season_dummies], axis=1)\n",
    "\n",
    "# Elegir 'total' como variable de respuesta y las dummies de 'season' y 'hour' como predictores\n",
    "X = bikes[['hour', 'season_1', 'season_2', 'season_3']]\n",
    "y = bikes['total']\n",
    "\n",
    "# Ajustar el modelo de regresión lineal\n",
    "model = LinearRegression()\n",
    "model.fit(X, y)\n",
    "\n",
    "# Imprimir los coeficientes\n",
    "print('Intercept:', model.intercept_)\n",
    "print('Coefficients:', model.coef_)\n"
   ]
  },
  {
   "cell_type": "markdown",
   "metadata": {},
   "source": [
    "Análisis de resultados:\n",
    "\n",
    "**Intercepto: 77.65.** Esto representa el número promedio de alquileres de bicicletas que se esperaría cuando las horas del día y las temporadas son 0 en el modelo. En el contexto de este modelo, se trata de un valor teórico porque no tienes una hora del día igual a 0 y tampoco una temporada igual a 0 (la temporada en realidad tiene 4 categorías: 1, 2, 3 y 4).\n",
    "\n",
    "**Coeficiente para 'hour': 10.55.** Por cada hora adicional, el número promedio de alquileres de bicicletas aumenta en aproximadamente 10.55 unidades. Este efecto es acumulativo a lo largo del día.\n",
    "\n",
    "* Coeficientes para las temporadas ('season_1' a 'season_3'):\n",
    "\n",
    "    * **'season_1': -84.08.** En invierno, el número promedio de alquileres de bicicletas disminuye en 84.08 en comparación con la temporada base (que en este caso es probablemente la temporada 4, otoño, al ser la categoría que falta).\n",
    "    * **'season_2': 16.23.** En primavera, el número promedio de alquileres de bicicletas aumenta en 16.23 en comparación con la temporada base.\n",
    "    * '**season_3': 35.38.** En verano, el número promedio de alquileres de bicicletas aumenta en 35.38 en comparación con la temporada base.\n",
    "La interpretación de estos coeficientes se realiza manteniendo todas las demás variables constantes. Por ejemplo, el efecto de la hora es independiente de la temporada en el modelo.\n",
    "\n",
    "**Limitaciones de la Regresión Lineal en este caso:**\n",
    "\n",
    "1. **Linealidad de las relaciones:** La regresión lineal asume que hay una relación lineal entre las variables predictoras y la variable de respuesta. Sin embargo, en la realidad, el número de alquileres de bicicletas puede no incrementarse de manera lineal con la hora o la temporada.\n",
    "\n",
    "2. **Independencia de errores:** La regresión lineal supone que los errores (residuos) entre las observaciones son independientes. En los datos de series temporales como este, los alquileres en una hora podrían estar correlacionados con las horas anteriores o siguientes, lo cual violaría esta suposición.\n",
    "\n",
    "3. **Homocedasticidad:** La regresión lineal asume que la varianza de los errores es constante para todas las predicciones del modelo. Si la varianza de los errores cambia en diferentes niveles de la variable de respuesta (por ejemplo, más varianza en las horas pico), esto podría afectar la precisión de las estimaciones del modelo y de los intervalos de confianza.\n",
    "\n",
    "4. **Ausencia de multicolinealidad:** En un modelo de regresión lineal, se espera que las variables predictoras no estén altamente correlacionadas entre sí. Aunque en este modelo solo se han incluido 'hour' y 'season', si hubiera más predictores, podrían tener relaciones entre ellos que afectarían el modelo.\n",
    "\n",
    "5. **Variables confusas y sesgo de especificación:** Si hay variables importantes que no se han incluido en el modelo, como el clima o días especiales (festivos, eventos), esto puede sesgar los resultados y limitar la capacidad del modelo para hacer predicciones precisas.\n",
    "\n",
    "6. **No linealidades y efectos de interacción:** Es posible que existan efectos de interacción entre las horas y las temporadas que un modelo de regresión lineal simple no puede capturar. Por ejemplo, el patrón de alquiler de bicicletas durante las horas del día podría ser diferente dependiendo de la temporada, pero el modelo actual no considera esa interacción."
   ]
  },
  {
   "cell_type": "markdown",
   "metadata": {},
   "source": [
    "### Punto 4 - Árbol de decisión manual\n",
    "En la celda 4 cree un árbol de decisiones para pronosticar la variable \"total\" iterando **manualmente** sobre las variables \"hour\" y  \"season\". El árbol debe tener al menos 6 nodos finales."
   ]
  },
  {
   "cell_type": "code",
   "execution_count": 12,
   "metadata": {},
   "outputs": [
    {
     "name": "stdout",
     "output_type": "stream",
     "text": [
      "Mean Squared Error on the test set: 29516.977706662936\n"
     ]
    }
   ],
   "source": [
    "# Asegurándose de que 'season' es categórica\n",
    "bikes['season'] = bikes['season'].astype('category')\n",
    "\n",
    "# Creando las variables predictoras X y la variable objetivo y\n",
    "X = bikes[['hour', 'season']]\n",
    "y = bikes['total']\n",
    "\n",
    "# Convertimos 'season' en variables dummy porque los árboles de decisión no pueden trabajar directamente con variables categóricas\n",
    "X = pd.get_dummies(X, columns=['season'], drop_first=True)\n",
    "\n",
    "# Dividir los datos en entrenamiento y prueba\n",
    "X_train, X_test, y_train, y_test = train_test_split(X, y, test_size=0.2, random_state=42)\n",
    "\n",
    "# Definición de parámetros y criterios de parada\n",
    "max_depth = 5  # Ajustar según necesidad\n",
    "num_pct = 10\n",
    "min_gain = 0.001\n",
    "min_samples_split = 20  # Mínimo de muestras necesarias para continuar dividiendo un nodo\n",
    "\n",
    "# Función para calcular la varianza\n",
    "def variance(y):\n",
    "    return np.var(y)\n",
    "\n",
    "# Función para calcular el error cuadrático medio (varianza ponderada de dos grupos)\n",
    "def mse_impurity(X_col, y, split):\n",
    "    filter_l = X_col < split\n",
    "    y_l = y[filter_l]\n",
    "    y_r = y[~filter_l]\n",
    "    if y_l.shape[0] == 0 or y_r.shape[0] == 0:  # Evitar división por cero\n",
    "        return 0\n",
    "    n_l = y_l.shape[0]\n",
    "    n_r = y_r.shape[0]\n",
    "    mse_l = variance(y_l)\n",
    "    mse_r = variance(y_r)\n",
    "    mse_impurity_ = (n_l * mse_l + n_r * mse_r) / (n_l + n_r)\n",
    "    return mse_impurity_\n",
    "\n",
    "# Función para encontrar la mejor división\n",
    "def best_split(X, y, num_pct=10):\n",
    "    features = range(X.shape[1])\n",
    "    \n",
    "    best_split = [0, 0, float('inf')]  # j, split, gain\n",
    "    \n",
    "    # Para todas las variables\n",
    "    for j in features:\n",
    "        \n",
    "        splits = np.percentile(X.iloc[:, j], np.arange(0, 100, 100.0 / (num_pct+1)).tolist())\n",
    "        splits = np.unique(splits)[1:]\n",
    "        \n",
    "        # Para cada punto de corte\n",
    "        for split in splits:\n",
    "            filter_l = X.iloc[:, j] < split\n",
    "            mse = mse_impurity(X.iloc[:, j], y, split)\n",
    "            gain = variance(y) - mse\n",
    "            \n",
    "            # Verificar si la ganancia es mayor que el mínimo y si se supera la mejor ganancia actual\n",
    "            if gain > min_gain and gain < best_split[2]:\n",
    "                # Verificar que haya suficientes muestras en cada partición\n",
    "                if np.sum(filter_l) >= min_samples_split and np.sum(~filter_l) >= min_samples_split:\n",
    "                    best_split = [j, split, gain]\n",
    "    \n",
    "    return best_split\n",
    "\n",
    "# Función de crecimiento recursivo del árbol\n",
    "def tree_grow(X, y, level=0, max_depth=None, num_pct=10):\n",
    "    \n",
    "    # Si se cumple el criterio de parada, retorna un nodo hoja\n",
    "    if level == max_depth or X.shape[0] < min_samples_split:\n",
    "        return {'y_pred': y.mean(), 'level': level, 'split': -1, 'n_samples': X.shape[0]}\n",
    "    \n",
    "    # Calcular la mejor división\n",
    "    j, split, gain = best_split(X, y, num_pct)\n",
    "    \n",
    "    # Si no se logra ganancia, retorna un nodo hoja\n",
    "    if gain == float('inf'):\n",
    "        return {'y_pred': y.mean(), 'level': level, 'split': -1, 'n_samples': X.shape[0]}\n",
    "    \n",
    "    # Si se logra ganancia, crea un nodo interno y crece recursivamente para cada partición\n",
    "    filter_l = X.iloc[:, j] < split\n",
    "    X_l, y_l = X.loc[filter_l], y.loc[filter_l]\n",
    "    X_r, y_r = X.loc[~filter_l], y.loc[~filter_l]\n",
    "    node = {'split': (j, split), 'level': level, 'n_samples': X.shape[0]}\n",
    "    node['left'] = tree_grow(X_l, y_l, level + 1, max_depth, num_pct)\n",
    "    node['right'] = tree_grow(X_r, y_r, level + 1, max_depth, num_pct)\n",
    "    return node\n",
    "\n",
    "# Función para hacer predicciones con el árbol\n",
    "def tree_predict(X, tree):\n",
    "    if tree['split'] == -1:\n",
    "        return np.ones(X.shape[0]) * tree['y_pred']\n",
    "    else:\n",
    "        j, split = tree['split']\n",
    "        filter_l = X.iloc[:, j] < split\n",
    "        predictions = np.zeros(X.shape[0])\n",
    "        predictions[filter_l] = tree_predict(X.loc[filter_l], tree['left'])\n",
    "        predictions[~filter_l] = tree_predict(X.loc[~filter_l], tree['right'])\n",
    "        return predictions\n",
    "\n",
    "# Entrenamiento del árbol\n",
    "tree = tree_grow(X_train, y_train, level=0, max_depth=max_depth, num_pct=num_pct)\n",
    "\n",
    "# Predicciones\n",
    "predictions_test = tree_predict(X_test, tree)\n",
    "\n",
    "# Calculo del MSE\n",
    "mse_test = mean_squared_error(y_test, predictions_test)\n",
    "print(f'Mean Squared Error on the test set: {mse_test}')\n"
   ]
  },
  {
   "cell_type": "markdown",
   "metadata": {},
   "source": [
    "### Punto 5 - Árbol de decisión con librería\n",
    "En la celda 5 entrene un árbol de decisiones con la **librería sklearn**, usando las variables predictoras \"season\" y \"hour\" y calibre los parámetros que considere conveniente para obtener un mejor desempeño. Recuerde dividir los datos en conjuntos de entrenamiento y validación para esto. Comente el desempeño del modelo con alguna métrica de desempeño de modelos de regresión y compare desempeño con el modelo del punto 3."
   ]
  },
  {
   "cell_type": "code",
   "execution_count": 14,
   "metadata": {},
   "outputs": [
    {
     "name": "stdout",
     "output_type": "stream",
     "text": [
      "Root Mean Squared Error: 138.0074960274208\n"
     ]
    }
   ],
   "source": [
    "# Convertir \"season\" a variables dummy\n",
    "bikes = pd.get_dummies(bikes, columns=['season'], drop_first=True)\n",
    "\n",
    "# Paso 2: Dividir los datos en conjuntos de entrenamiento y prueba\n",
    "X = bikes[['hour', 'season_2', 'season_3', 'season_4']]\n",
    "y = bikes['total']\n",
    "X_train, X_test, y_train, y_test = train_test_split(X, y, test_size=0.2, random_state=42)\n",
    "\n",
    "# Paso 3: Entrenar el modelo\n",
    "tree_reg = DecisionTreeRegressor(max_depth=3, random_state=42)  \n",
    "tree_reg.fit(X_train, y_train)\n",
    "\n",
    "# Paso 4: Evaluar el modelo\n",
    "y_pred = tree_reg.predict(X_test)\n",
    "mse = mean_squared_error(y_test, y_pred)\n",
    "rmse = np.sqrt(mse)\n",
    "\n",
    "print(f'Root Mean Squared Error: {rmse}')"
   ]
  },
  {
   "cell_type": "markdown",
   "metadata": {},
   "source": [
    "Habiendo obtenido un MSE de 29516.9777 para el modelo de árbol de decisión construido manualmente y un RMSE de 138.007 para el modelo de árbol de decisión utilizando scikit-learn, aquí hay algunas conclusiones y observaciones que podemos hacer:\n",
    "\n",
    "1. **Comparación de MSE:** El MSE es una medida que penaliza más los errores grandes debido a que eleva al cuadrado las diferencias entre los valores predichos y reales. Un MSE más bajo en el árbol manual sugiere que este modelo, en promedio, tiene errores cuadráticos más pequeños en sus predicciones comparado con el modelo de scikit-learn. Esto podría indicar un mejor rendimiento en el conjunto de datos de prueba.\n",
    "\n",
    "2. **Interpretación del RMSE:** El RMSE es la raíz cuadrada del MSE y tiene la misma unidad que la variable de respuesta (en este caso, el número total de alquileres). Un RMSE de 123.3929 significa que, en promedio, las predicciones del modelo de scikit-learn se desvían aproximadamente 123 unidades del valor real. Esto proporciona una interpretación más intuitiva del error de predicción.\n",
    "\n",
    "3. **Complejidad del Modelo:** Si el modelo manual tiene un MSE significativamente diferente al modelo de scikit-learn, podría deberse a la manera en que se han manejado las divisiones, la profundidad del árbol, y la cantidad mínima de muestras requeridas para seguir dividiendo los nodos. Esto podría implicar que el modelo manual está sobreajustado (si el árbol es demasiado complejo) o subajustado (si es demasiado simple).\n",
    "\n",
    "4. **Ajuste de Hiperparámetros:** Es posible que los hiperparámetros del modelo de scikit-learn no estén óptimamente ajustados. La optimización de hiperparámetros (como la profundidad máxima del árbol, el número mínimo de muestras por hoja, etc.) podría mejorar su rendimiento.\n",
    "\n",
    "5. **Validación del Modelo:** La conclusión final sobre qué modelo es \"mejor\" debe basarse en un proceso de validación más robusto, como la validación cruzada, que evalúa el rendimiento del modelo en varios subconjuntos de datos para garantizar que los resultados sean consistentes y no un artefacto de la particular división de entrenamiento/prueba.\n",
    "\n",
    "En resumen, basándose únicamente en el MSE y RMSE, el modelo de árbol de decisión manual parece tener un mejor rendimiento en este conjunto de datos de prueba específico. Sin embargo, es esencial realizar una validación más exhaustiva para sacar conclusiones firmes. Además, es importante evaluar la interpretación y la simplicidad del modelo junto con su rendimiento predictivo, ya que estos factores también son cruciales en la toma de decisiones basada en modelos predictivos."
   ]
  },
  {
   "cell_type": "markdown",
   "metadata": {},
   "source": [
    "## Parte B - Métodos de ensamblajes\n",
    "En esta parte del taller se usará el conjunto de datos de Popularidad de Noticias Online. El objetivo es predecir si la notica es popular o no, la popularidad está dada por la cantidad de reacciones en redes sociales. Para más detalles puede visitar el siguiente enlace: [datos](https://archive.ics.uci.edu/ml/datasets/online+news+popularity)."
   ]
  },
  {
   "cell_type": "markdown",
   "metadata": {},
   "source": [
    "### Datos popularidad de noticias"
   ]
  },
  {
   "cell_type": "code",
   "execution_count": 15,
   "metadata": {},
   "outputs": [
    {
     "data": {
      "text/html": [
       "<div>\n",
       "<style scoped>\n",
       "    .dataframe tbody tr th:only-of-type {\n",
       "        vertical-align: middle;\n",
       "    }\n",
       "\n",
       "    .dataframe tbody tr th {\n",
       "        vertical-align: top;\n",
       "    }\n",
       "\n",
       "    .dataframe thead th {\n",
       "        text-align: right;\n",
       "    }\n",
       "</style>\n",
       "<table border=\"1\" class=\"dataframe\">\n",
       "  <thead>\n",
       "    <tr style=\"text-align: right;\">\n",
       "      <th></th>\n",
       "      <th>url</th>\n",
       "      <th>timedelta</th>\n",
       "      <th>n_tokens_title</th>\n",
       "      <th>n_tokens_content</th>\n",
       "      <th>n_unique_tokens</th>\n",
       "      <th>n_non_stop_words</th>\n",
       "      <th>n_non_stop_unique_tokens</th>\n",
       "      <th>num_hrefs</th>\n",
       "      <th>num_self_hrefs</th>\n",
       "      <th>num_imgs</th>\n",
       "      <th>...</th>\n",
       "      <th>min_positive_polarity</th>\n",
       "      <th>max_positive_polarity</th>\n",
       "      <th>avg_negative_polarity</th>\n",
       "      <th>min_negative_polarity</th>\n",
       "      <th>max_negative_polarity</th>\n",
       "      <th>title_subjectivity</th>\n",
       "      <th>title_sentiment_polarity</th>\n",
       "      <th>abs_title_subjectivity</th>\n",
       "      <th>abs_title_sentiment_polarity</th>\n",
       "      <th>Popular</th>\n",
       "    </tr>\n",
       "  </thead>\n",
       "  <tbody>\n",
       "    <tr>\n",
       "      <th>0</th>\n",
       "      <td>http://mashable.com/2014/12/10/cia-torture-rep...</td>\n",
       "      <td>28.0</td>\n",
       "      <td>9.0</td>\n",
       "      <td>188.0</td>\n",
       "      <td>0.732620</td>\n",
       "      <td>1.0</td>\n",
       "      <td>0.844262</td>\n",
       "      <td>5.0</td>\n",
       "      <td>1.0</td>\n",
       "      <td>1.0</td>\n",
       "      <td>...</td>\n",
       "      <td>0.200000</td>\n",
       "      <td>0.80</td>\n",
       "      <td>-0.487500</td>\n",
       "      <td>-0.60</td>\n",
       "      <td>-0.250000</td>\n",
       "      <td>0.9</td>\n",
       "      <td>0.8</td>\n",
       "      <td>0.4</td>\n",
       "      <td>0.8</td>\n",
       "      <td>1</td>\n",
       "    </tr>\n",
       "    <tr>\n",
       "      <th>1</th>\n",
       "      <td>http://mashable.com/2013/10/18/bitlock-kicksta...</td>\n",
       "      <td>447.0</td>\n",
       "      <td>7.0</td>\n",
       "      <td>297.0</td>\n",
       "      <td>0.653199</td>\n",
       "      <td>1.0</td>\n",
       "      <td>0.815789</td>\n",
       "      <td>9.0</td>\n",
       "      <td>4.0</td>\n",
       "      <td>1.0</td>\n",
       "      <td>...</td>\n",
       "      <td>0.160000</td>\n",
       "      <td>0.50</td>\n",
       "      <td>-0.135340</td>\n",
       "      <td>-0.40</td>\n",
       "      <td>-0.050000</td>\n",
       "      <td>0.1</td>\n",
       "      <td>-0.1</td>\n",
       "      <td>0.4</td>\n",
       "      <td>0.1</td>\n",
       "      <td>0</td>\n",
       "    </tr>\n",
       "    <tr>\n",
       "      <th>2</th>\n",
       "      <td>http://mashable.com/2013/07/24/google-glass-po...</td>\n",
       "      <td>533.0</td>\n",
       "      <td>11.0</td>\n",
       "      <td>181.0</td>\n",
       "      <td>0.660377</td>\n",
       "      <td>1.0</td>\n",
       "      <td>0.775701</td>\n",
       "      <td>4.0</td>\n",
       "      <td>3.0</td>\n",
       "      <td>1.0</td>\n",
       "      <td>...</td>\n",
       "      <td>0.136364</td>\n",
       "      <td>1.00</td>\n",
       "      <td>0.000000</td>\n",
       "      <td>0.00</td>\n",
       "      <td>0.000000</td>\n",
       "      <td>0.3</td>\n",
       "      <td>1.0</td>\n",
       "      <td>0.2</td>\n",
       "      <td>1.0</td>\n",
       "      <td>0</td>\n",
       "    </tr>\n",
       "    <tr>\n",
       "      <th>3</th>\n",
       "      <td>http://mashable.com/2013/11/21/these-are-the-m...</td>\n",
       "      <td>413.0</td>\n",
       "      <td>12.0</td>\n",
       "      <td>781.0</td>\n",
       "      <td>0.497409</td>\n",
       "      <td>1.0</td>\n",
       "      <td>0.677350</td>\n",
       "      <td>10.0</td>\n",
       "      <td>3.0</td>\n",
       "      <td>1.0</td>\n",
       "      <td>...</td>\n",
       "      <td>0.100000</td>\n",
       "      <td>1.00</td>\n",
       "      <td>-0.195701</td>\n",
       "      <td>-0.40</td>\n",
       "      <td>-0.071429</td>\n",
       "      <td>0.0</td>\n",
       "      <td>0.0</td>\n",
       "      <td>0.5</td>\n",
       "      <td>0.0</td>\n",
       "      <td>0</td>\n",
       "    </tr>\n",
       "    <tr>\n",
       "      <th>4</th>\n",
       "      <td>http://mashable.com/2014/02/11/parking-ticket-...</td>\n",
       "      <td>331.0</td>\n",
       "      <td>8.0</td>\n",
       "      <td>177.0</td>\n",
       "      <td>0.685714</td>\n",
       "      <td>1.0</td>\n",
       "      <td>0.830357</td>\n",
       "      <td>3.0</td>\n",
       "      <td>2.0</td>\n",
       "      <td>1.0</td>\n",
       "      <td>...</td>\n",
       "      <td>0.100000</td>\n",
       "      <td>0.55</td>\n",
       "      <td>-0.175000</td>\n",
       "      <td>-0.25</td>\n",
       "      <td>-0.100000</td>\n",
       "      <td>0.0</td>\n",
       "      <td>0.0</td>\n",
       "      <td>0.5</td>\n",
       "      <td>0.0</td>\n",
       "      <td>0</td>\n",
       "    </tr>\n",
       "  </tbody>\n",
       "</table>\n",
       "<p>5 rows × 61 columns</p>\n",
       "</div>"
      ],
      "text/plain": [
       "                                                 url  timedelta  \\\n",
       "0  http://mashable.com/2014/12/10/cia-torture-rep...       28.0   \n",
       "1  http://mashable.com/2013/10/18/bitlock-kicksta...      447.0   \n",
       "2  http://mashable.com/2013/07/24/google-glass-po...      533.0   \n",
       "3  http://mashable.com/2013/11/21/these-are-the-m...      413.0   \n",
       "4  http://mashable.com/2014/02/11/parking-ticket-...      331.0   \n",
       "\n",
       "   n_tokens_title  n_tokens_content  n_unique_tokens  n_non_stop_words  \\\n",
       "0             9.0             188.0         0.732620               1.0   \n",
       "1             7.0             297.0         0.653199               1.0   \n",
       "2            11.0             181.0         0.660377               1.0   \n",
       "3            12.0             781.0         0.497409               1.0   \n",
       "4             8.0             177.0         0.685714               1.0   \n",
       "\n",
       "   n_non_stop_unique_tokens  num_hrefs  num_self_hrefs  num_imgs  ...  \\\n",
       "0                  0.844262        5.0             1.0       1.0  ...   \n",
       "1                  0.815789        9.0             4.0       1.0  ...   \n",
       "2                  0.775701        4.0             3.0       1.0  ...   \n",
       "3                  0.677350       10.0             3.0       1.0  ...   \n",
       "4                  0.830357        3.0             2.0       1.0  ...   \n",
       "\n",
       "   min_positive_polarity  max_positive_polarity  avg_negative_polarity  \\\n",
       "0               0.200000                   0.80              -0.487500   \n",
       "1               0.160000                   0.50              -0.135340   \n",
       "2               0.136364                   1.00               0.000000   \n",
       "3               0.100000                   1.00              -0.195701   \n",
       "4               0.100000                   0.55              -0.175000   \n",
       "\n",
       "   min_negative_polarity  max_negative_polarity  title_subjectivity  \\\n",
       "0                  -0.60              -0.250000                 0.9   \n",
       "1                  -0.40              -0.050000                 0.1   \n",
       "2                   0.00               0.000000                 0.3   \n",
       "3                  -0.40              -0.071429                 0.0   \n",
       "4                  -0.25              -0.100000                 0.0   \n",
       "\n",
       "   title_sentiment_polarity  abs_title_subjectivity  \\\n",
       "0                       0.8                     0.4   \n",
       "1                      -0.1                     0.4   \n",
       "2                       1.0                     0.2   \n",
       "3                       0.0                     0.5   \n",
       "4                       0.0                     0.5   \n",
       "\n",
       "   abs_title_sentiment_polarity  Popular  \n",
       "0                           0.8        1  \n",
       "1                           0.1        0  \n",
       "2                           1.0        0  \n",
       "3                           0.0        0  \n",
       "4                           0.0        0  \n",
       "\n",
       "[5 rows x 61 columns]"
      ]
     },
     "execution_count": 15,
     "metadata": {},
     "output_type": "execute_result"
    }
   ],
   "source": [
    "# Lectura de la información de archivo .csv\n",
    "df = pd.read_csv('https://raw.githubusercontent.com/davidzarruk/MIAD_ML_NLP_2023/main/datasets/mashable.csv', index_col=0)\n",
    "df.head()"
   ]
  },
  {
   "cell_type": "code",
   "execution_count": 16,
   "metadata": {},
   "outputs": [
    {
     "data": {
      "text/plain": [
       "0.5"
      ]
     },
     "execution_count": 16,
     "metadata": {},
     "output_type": "execute_result"
    }
   ],
   "source": [
    "# Definición variable de interes y variables predictoras\n",
    "X = df.drop(['url', 'Popular'], axis=1)\n",
    "y = df['Popular']\n",
    "y.mean()"
   ]
  },
  {
   "cell_type": "code",
   "execution_count": 17,
   "metadata": {},
   "outputs": [],
   "source": [
    "# División de la muestra en set de entrenamiento y prueba\n",
    "from sklearn.model_selection import train_test_split\n",
    "X_train, X_test, y_train, y_test = train_test_split(X, y, random_state=1)"
   ]
  },
  {
   "cell_type": "markdown",
   "metadata": {},
   "source": [
    "### Punto 6 - Árbol de decisión y regresión logística\n",
    "En la celda 6 construya un árbol de decisión y una regresión logística. Para el árbol calibre al menos un parámetro y evalúe el desempeño de cada modelo usando las métricas de Accuracy y F1-Score."
   ]
  },
  {
   "cell_type": "code",
   "execution_count": 18,
   "metadata": {},
   "outputs": [
    {
     "name": "stdout",
     "output_type": "stream",
     "text": [
      "Árbol de Decisión Accuracy: 0.6413333333333333\n",
      "Árbol de Decisión F1-Score: 0.6072992700729928\n",
      "Regresión Logística Accuracy: 0.6126666666666667\n",
      "Regresión Logística F1-Score: 0.6087542087542088\n"
     ]
    }
   ],
   "source": [
    "# Celda 6\n",
    "\n",
    "from sklearn.tree import DecisionTreeClassifier\n",
    "from sklearn.linear_model import LogisticRegression\n",
    "from sklearn.metrics import accuracy_score, f1_score\n",
    "\n",
    "\n",
    "# Árbol de decisión\n",
    "# Calibraremos el parámetro max_depth para simplificar el modelo\n",
    "dt_clf = DecisionTreeClassifier(max_depth=3, random_state=42)\n",
    "dt_clf.fit(X_train, y_train)\n",
    "dt_predictions = dt_clf.predict(X_test)\n",
    "\n",
    "# Evaluación del árbol de decisión\n",
    "dt_accuracy = accuracy_score(y_test, dt_predictions)\n",
    "dt_f1 = f1_score(y_test, dt_predictions)\n",
    "print(f'Árbol de Decisión Accuracy: {dt_accuracy}')\n",
    "print(f'Árbol de Decisión F1-Score: {dt_f1}')\n",
    "\n",
    "# Regresión logística\n",
    "# Calibraremos el parámetro C para la fuerza de la regularización\n",
    "lr_clf = LogisticRegression(C=1.0, random_state=42)\n",
    "lr_clf.fit(X_train, y_train)\n",
    "lr_predictions = lr_clf.predict(X_test)\n",
    "\n",
    "# Evaluación de la regresión logística\n",
    "lr_accuracy = accuracy_score(y_test, lr_predictions)\n",
    "lr_f1 = f1_score(y_test, lr_predictions)\n",
    "print(f'Regresión Logística Accuracy: {lr_accuracy}')\n",
    "print(f'Regresión Logística F1-Score: {lr_f1}')\n"
   ]
  },
  {
   "cell_type": "markdown",
   "metadata": {},
   "source": [
    "* Accuracy: \n",
    "    * El modelo de Árbol de Decisión tiene una precisión del 64.13%, lo que indica que aproximadamente 64 de cada 100 predicciones son correctas.\n",
    "    * La Regresión Logística tiene una precisión del 61.27%, ligeramente inferior a la del Árbol de Decisión.\n",
    "\n",
    "* F1-Score:\n",
    "    * El Árbol de Decisión tiene un F1-Score de aproximadamente 0.607, que combina la precisión y la exhaustividad en una sola métrica, siendo útil cuando las clases son desbalanceadas.\n",
    "    * La Regresión Logística tiene un F1-Score de aproximadamente 0.609, muy similar al F1-Score del Árbol de Decisión, a pesar de tener un menor Accuracy.\n",
    "    \n",
    "**Comparación de Modelos:**\n",
    "\n",
    "Aunque la precisión del Árbol de Decisión es mayor que la de la Regresión Logística, los F1-Scores son muy similares. Esto puede indicar que, aunque el árbol de decisión hace más predicciones correctas en general (accuracy), la calidad de las predicciones (en términos de balance entre precisión y exhaustividad) es similar en ambos modelos.\n",
    "En este caso, la elección entre el Árbol de Decisión y la Regresión Logística podría basarse en otros factores como la interpretabilidad del modelo o el rendimiento en subconjuntos específicos del conjunto de datos (por ejemplo, rendimiento en diferentes clases).\n",
    "\n",
    "**Consideraciones Adicionales:**\n",
    "\n",
    "Ambos modelos podrían beneficiarse de la optimización de hiperparámetros. Por ejemplo, ajustando la profundidad máxima del árbol o la fuerza de la regularización en la regresión logística (parámetro C).\n",
    "Podría ser útil realizar un análisis de la matriz de confusión para entender mejor los tipos de errores que cada modelo está cometiendo.\n",
    "La validación cruzada podría proporcionar una estimación más robusta del rendimiento del modelo y podría revelar si los resultados son consistentes a través de diferentes divisiones de los datos."
   ]
  },
  {
   "cell_type": "markdown",
   "metadata": {},
   "source": [
    "### Punto 7 - Votación Mayoritaria\n",
    "En la celda 7 elabore un esamble con la metodología de **Votación mayoritaria** compuesto por 300 muestras bagged donde:\n",
    "\n",
    "-las primeras 100 muestras vienen de árboles de decisión donde max_depth tome un valor de su elección\\\n",
    "-las segundas 100 muestras vienen de árboles de decisión donde min_samples_leaf tome un valor de su elección\\\n",
    "-las últimas 100 muestras vienen de regresiones logísticas\n",
    "\n",
    "Evalúe cada uno de los tres modelos de manera independiente utilizando las métricas de Accuracy y F1-Score, luego evalúe el ensamble de modelos y compare los resultados. \n",
    "\n",
    "Nota: \n",
    "\n",
    "Para este ensamble de 300 modelos, deben hacer votación mayoritaria. Esto lo pueden hacer de distintas maneras. La más \"fácil\" es haciendo la votación \"manualmente\", como se hace a partir del minuto 5:45 del video de Ejemplo práctico de emsablajes en Coursera. Digo que es la más fácil porque si hacen la votación mayoritaria sobre las 300 predicciones van a obtener lo que se espera.\n",
    "\n",
    "Otra opción es: para cada uno de los 3 tipos de modelos, entrenar un ensamble de 100 modelos cada uno. Predecir para cada uno de esos tres ensambles y luego predecir como un ensamble de los 3 ensambles. La cuestión es que la votación mayoritaria al usar los 3 ensambles no necesariamente va a generar el mismo resultado que si hacen la votación mayoritaria directamente sobre los 300 modelos. Entonces, para los que quieran hacer esto, deben hacer ese último cálculo con cuidado.\n",
    "\n",
    "Para los que quieran hacerlo como ensamble de ensambles, digo que se debe hacer el ensamble final con cuidado por lo siguiente. Supongamos que:\n",
    "\n",
    "* para los 100 árboles del primer tipo, la votación mayoritaria es: 55% de los modelos predicen que la clase de una observación es \"1\"\n",
    "* para los 100 árboles del segundo tipo, la votación mayoritaria es: 55% de los modelos predicen que la clase de una observación es \"1\"\n",
    "* para las 100 regresiones logísticas, la votación mayoritaria es: 10% de los modelos predicen que la clase de una observación es \"1\"\n",
    "\n",
    "Si se hace la votación mayoritaria de los 300 modelos, la predicción de esa observación debería ser: (100*55%+100*55%+100*10%)/300 = 40% de los modelos votan porque la predicción debería ser \"1\". Es decir, la predicción del ensamble es \"0\" (dado que menos del 50% de modelos predijo un 1).\n",
    "\n",
    "Sin embargo, si miramos cada ensamble por separado, el primer ensamble predice \"1\", el segundo ensamble predice \"1\" y el último ensamble predice \"0\". Si hago votación mayoritaria sobre esto, la predicción va a ser \"1\", lo cual es distinto a si se hace la votación mayoritaria sobre los 300 modelos."
   ]
  },
  {
   "cell_type": "code",
   "execution_count": 19,
   "metadata": {},
   "outputs": [
    {
     "name": "stdout",
     "output_type": "stream",
     "text": [
      "Ensamble de Votación Mayoritaria Accuracy: 0.634\n",
      "Ensamble de Votación Mayoritaria F1-Score: 0.6322839919624915\n"
     ]
    }
   ],
   "source": [
    "# Celda 7\n",
    "from sklearn.tree import DecisionTreeClassifier\n",
    "from sklearn.linear_model import LogisticRegression\n",
    "from sklearn.utils import resample\n",
    "from sklearn.metrics import accuracy_score, f1_score\n",
    "from scipy.stats import mode\n",
    "import numpy as np\n",
    "\n",
    "# Configuración de los hiperparámetros para los árboles de decisión\n",
    "max_depth = 5  # El valor que elijas\n",
    "min_samples_leaf = 10  # El valor que elijas\n",
    "\n",
    "# Crear ensambles\n",
    "trees_max_depth = [DecisionTreeClassifier(max_depth=max_depth) for _ in range(100)]\n",
    "trees_min_samples_leaf = [DecisionTreeClassifier(min_samples_leaf=min_samples_leaf) for _ in range(100)]\n",
    "logistic_regressions = [LogisticRegression() for _ in range(100)]\n",
    "\n",
    "# Entrenar los modelos con bootstrap samples\n",
    "for model in trees_max_depth + trees_min_samples_leaf + logistic_regressions:\n",
    "    X_sample, y_sample = resample(X_train, y_train)\n",
    "    model.fit(X_sample, y_sample)\n",
    "\n",
    "# Hacer predicciones con cada modelo\n",
    "predictions = np.array([model.predict(X_test) for model in trees_max_depth + trees_min_samples_leaf + logistic_regressions])\n",
    "\n",
    "# Votación mayoritaria\n",
    "majority_vote = mode(predictions, axis=0)[0].flatten()\n",
    "\n",
    "# Evaluar el ensamble\n",
    "ensamble_accuracy = accuracy_score(y_test, majority_vote)\n",
    "ensamble_f1 = f1_score(y_test, majority_vote)\n",
    "\n",
    "print(f'Ensamble de Votación Mayoritaria Accuracy: {ensamble_accuracy}')\n",
    "print(f'Ensamble de Votación Mayoritaria F1-Score: {ensamble_f1}')\n"
   ]
  },
  {
   "cell_type": "markdown",
   "metadata": {},
   "source": [
    "### Punto 8 - Votación Ponderada\n",
    "En la celda 8 elabore un ensamble con la metodología de **Votación ponderada** compuesto por 300 muestras bagged para los mismos tres escenarios del punto 7. Evalúe los modelos utilizando las métricas de Accuracy y F1-Score"
   ]
  },
  {
   "cell_type": "code",
   "execution_count": 20,
   "metadata": {},
   "outputs": [
    {
     "name": "stdout",
     "output_type": "stream",
     "text": [
      "Votación Ponderada Accuracy: 0.6086666666666667\n",
      "Votación Ponderada F1-Score: 0.6165904637491835\n"
     ]
    }
   ],
   "source": [
    "# Celda 8\n",
    "from sklearn.ensemble import VotingClassifier\n",
    "\n",
    "# Crear una lista de modelos con sus pesos\n",
    "models = [(f'dt_depth_{i}', tree) for i, tree in enumerate(trees_max_depth)] + \\\n",
    "         [(f'dt_samples_{i}', tree) for i, tree in enumerate(trees_min_samples_leaf)] + \\\n",
    "         [(f'lr_{i}', lr) for i, lr in enumerate(logistic_regressions)]\n",
    "\n",
    "# Asignar los pesos. Esto es solo un ejemplo y deberás calcular los pesos en base a la precisión o métrica de tu elección.\n",
    "weights = [accuracy_score(y_train, tree.predict(X_train)) for tree in trees_max_depth] + \\\n",
    "          [accuracy_score(y_train, tree.predict(X_train)) for tree in trees_min_samples_leaf] + \\\n",
    "          [accuracy_score(y_train, lr.predict(X_train)) for lr in logistic_regressions]\n",
    "\n",
    "# Crear y entrenar el ensamble de votación ponderada\n",
    "voting_clf = VotingClassifier(estimators=models, voting='soft', weights=weights)\n",
    "voting_clf.fit(X_train, y_train)\n",
    "\n",
    "# Predicciones\n",
    "weighted_predictions = voting_clf.predict(X_test)\n",
    "\n",
    "# Evaluación\n",
    "weighted_accuracy = accuracy_score(y_test, weighted_predictions)\n",
    "weighted_f1 = f1_score(y_test, weighted_predictions)\n",
    "\n",
    "print(f'Votación Ponderada Accuracy: {weighted_accuracy}')\n",
    "print(f'Votación Ponderada F1-Score: {weighted_f1}')\n"
   ]
  },
  {
   "cell_type": "markdown",
   "metadata": {},
   "source": [
    "### Punto 9 - Comparación y análisis de resultados\n",
    "En la celda 9 comente sobre los resultados obtenidos con las metodologías usadas en los puntos 7 y 8, compare los resultados y enuncie posibles ventajas o desventajas de cada una de ellas."
   ]
  },
  {
   "cell_type": "markdown",
   "metadata": {},
   "source": [
    "**Votación Mayoritaria (Punto 7):**\n",
    "\n",
    "Accuracy: 63.4%\n",
    "F1-Score: 0.6323\n",
    "Votación Ponderada (Punto 8):\n",
    "\n",
    "Accuracy: 60.87%\n",
    "F1-Score: 0.6166\n",
    "Comparación y Conclusiones:\n",
    "\n",
    "Rendimiento:\n",
    "\n",
    "La votación mayoritaria tiene un rendimiento ligeramente mejor en ambos, precisión y F1-Score. Esto sugiere que, como colectivo, los modelos están haciendo predicciones más consistentes al tomar la decisión por mayoría.\n",
    "Consistencia:\n",
    "\n",
    "La consistencia en la votación mayoritaria podría indicar que los modelos están generalmente de acuerdo entre sí. Esto puede ser una ventaja si se busca un consenso entre diferentes enfoques de modelado.\n",
    "Ponderación:\n",
    "\n",
    "La votación ponderada no proporcionó un beneficio en este caso particular, lo que podría deberse a cómo se asignaron los pesos. Si los pesos están basados en el rendimiento en los datos de entrenamiento, podrían reflejar sobreajuste.\n",
    "Sobreajuste:\n",
    "\n",
    "Los modelos en la votación ponderada pueden estar sesgados hacia los que tienen mejor desempeño en los datos de entrenamiento, lo que no siempre se traduce en un mejor desempeño en datos no vistos.\n",
    "Diversidad de Modelos:\n",
    "\n",
    "La votación mayoritaria se beneficia de la diversidad de modelos. Si un modelo se equivoca, otros pueden corregir el error. En la votación ponderada, un modelo con un peso alto que se equivoque tendrá un impacto mayor en el resultado final.\n",
    "Complejidad de Implementación:\n",
    "\n",
    "La votación mayoritaria es más simple de implementar, ya que cada modelo tiene el mismo peso. La votación ponderada requiere una capa adicional de complejidad al tener que calcular y asignar pesos.\n",
    "Posibles Ventajas y Desventajas:\n",
    "\n",
    "Votación Mayoritaria:\n",
    "\n",
    "Ventaja: Simplifica el consenso entre modelos y puede ser menos propenso al sobreajuste.\n",
    "Desventaja: Puede no aprovechar la información sobre cuál modelo es realmente mejor, especialmente si algunos modelos son considerablemente más precisos que otros.\n",
    "Votación Ponderada:\n",
    "\n",
    "Ventaja: Permite que los modelos con un mejor desempeño tengan más influencia en la predicción final, lo cual puede ser beneficioso si se ponderan correctamente.\n",
    "Desventaja: Puede resultar en sobreajuste si los pesos están basados en el rendimiento de los datos de entrenamiento y puede ser más complejo de calibrar.\n",
    "En conclusión, aunque la votación mayoritaria parece ser más efectiva en este caso, es importante recordar que los resultados pueden variar dependiendo de la naturaleza del conjunto de datos y cómo se asignan los pesos en la votación ponderada. Experimentar con diferentes esquemas de ponderación y validación cruzada podría ayudar a mejorar la votación ponderada y potencialmente superar a la votación mayoritaria en futuros intentos."
   ]
  }
 ],
 "metadata": {
  "kernelspec": {
   "display_name": "Python 3 (ipykernel)",
   "language": "python",
   "name": "python3"
  },
  "language_info": {
   "codemirror_mode": {
    "name": "ipython",
    "version": 3
   },
   "file_extension": ".py",
   "mimetype": "text/x-python",
   "name": "python",
   "nbconvert_exporter": "python",
   "pygments_lexer": "ipython3",
   "version": "3.10.9"
  }
 },
 "nbformat": 4,
 "nbformat_minor": 4
}
